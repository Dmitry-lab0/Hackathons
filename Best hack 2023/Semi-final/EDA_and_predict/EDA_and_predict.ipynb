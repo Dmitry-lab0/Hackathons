{
 "cells": [
  {
   "cell_type": "code",
   "execution_count": null,
   "id": "e4e5fee2",
   "metadata": {},
   "outputs": [],
   "source": [
    "import pandas as pd\n",
    "import numpy as np\n",
    "from matplotlib import pyplot as plt\n",
    "import seaborn as sns"
   ]
  },
  {
   "cell_type": "code",
   "execution_count": null,
   "id": "25dfc948",
   "metadata": {},
   "outputs": [],
   "source": [
    "df = pd.read_csv('data/train.csv')\n",
    "target = pd.read_csv('data/train_target.csv')"
   ]
  },
  {
   "cell_type": "code",
   "execution_count": null,
   "id": "d46c8dfc",
   "metadata": {},
   "outputs": [],
   "source": [
    "\n",
    "plt.style.use('ggplot')\n",
    "\n",
    "\n",
    "%matplotlib inline\n",
    "plt.rcParams['figure.figsize'] = (12,8)\n",
    "\n",
    "pd.options.mode.chained_assignment = None\n",
    "\n",
    "\n",
    "\n",
    "# чтение данных\n",
    "df = pd.read_csv('data/train.csv')\n",
    "target = pd.read_csv('data/train_target.csv')\n",
    "\n",
    "# shape and data types of the data\n",
    "print(df.shape)\n",
    "print(df.dtypes)\n",
    "\n",
    "# отбор числовых колонок\n",
    "df_numeric = df.select_dtypes(include=[np.number])\n",
    "numeric_cols = df_numeric.columns.values\n",
    "print(numeric_cols)"
   ]
  },
  {
   "cell_type": "code",
   "execution_count": null,
   "id": "ba84272e",
   "metadata": {},
   "outputs": [],
   "source": [
    "cols = df.columns \n",
    "\n",
    "colours = ['#000000', '#ffff00'] \n",
    "sns.heatmap(df[cols].isnull(), cmap=sns.color_palette(colours))"
   ]
  },
  {
   "cell_type": "code",
   "execution_count": null,
   "id": "261cc351",
   "metadata": {},
   "outputs": [],
   "source": [
    "for col in df.columns:\n",
    "    pct_missing = np.mean(df[col].isnull())\n",
    "    print('{} - {}%'.format(col, round(pct_missing)))"
   ]
  },
  {
   "cell_type": "code",
   "execution_count": null,
   "id": "bf871b71",
   "metadata": {},
   "outputs": [],
   "source": [
    "df['mes_id'] = df['wagnum'].apply(str) + '_' + df['ts_id'].apply(str)"
   ]
  },
  {
   "cell_type": "code",
   "execution_count": null,
   "id": "2069b19c",
   "metadata": {},
   "outputs": [],
   "source": [
    "# df"
   ]
  },
  {
   "cell_type": "code",
   "execution_count": null,
   "id": "db881dfe",
   "metadata": {},
   "outputs": [],
   "source": [
    "target['mes_id'] = target['wagnum'].apply(str) + '_' + target['ts_id'].apply(str)"
   ]
  },
  {
   "cell_type": "code",
   "execution_count": null,
   "id": "8f273b07",
   "metadata": {},
   "outputs": [],
   "source": [
    "target"
   ]
  },
  {
   "cell_type": "code",
   "execution_count": null,
   "id": "44b7fd64",
   "metadata": {},
   "outputs": [],
   "source": [
    "merged_df = pd.merge(df, target, on='mes_id')"
   ]
  },
  {
   "cell_type": "code",
   "execution_count": null,
   "id": "0807bc92",
   "metadata": {},
   "outputs": [],
   "source": [
    "merged_df"
   ]
  },
  {
   "cell_type": "code",
   "execution_count": null,
   "id": "c53bc13f",
   "metadata": {},
   "outputs": [],
   "source": [
    "merged_df = merged_df.drop(['wagnum_y', 'ts_id_y'], axis=1)"
   ]
  },
  {
   "cell_type": "code",
   "execution_count": null,
   "id": "5d76f040",
   "metadata": {},
   "outputs": [],
   "source": [
    "merged_df.columns = ['wagnum', 'ts_id', 'milleage_all', 'axl1_l_w_flange',\n",
    "       'axl1_r_w_flange', 'axl2_l_w_flange', 'axl2_r_w_flange',\n",
    "       'axl3_l_w_flange', 'axl3_r_w_flange', 'axl4_l_w_flange',\n",
    "       'axl4_r_w_flange', 'mes_id', 'target']"
   ]
  },
  {
   "cell_type": "code",
   "execution_count": null,
   "id": "c551c3c6",
   "metadata": {},
   "outputs": [],
   "source": [
    "# merged_df.to_csv('train_with_target.csv', index=False)"
   ]
  },
  {
   "cell_type": "code",
   "execution_count": null,
   "id": "7b5c1039",
   "metadata": {},
   "outputs": [],
   "source": [
    "merged_df = pd.read_csv('data/train_with_target.csv')"
   ]
  },
  {
   "cell_type": "code",
   "execution_count": null,
   "id": "0488dda5",
   "metadata": {},
   "outputs": [],
   "source": [
    "merged_df['target'].hist(bins=100)"
   ]
  },
  {
   "cell_type": "code",
   "execution_count": null,
   "id": "7139d14c",
   "metadata": {},
   "outputs": [],
   "source": [
    "merged_df = merged_df.sort_values(by='target')\n",
    "merged_df.head()"
   ]
  },
  {
   "cell_type": "code",
   "execution_count": null,
   "id": "ab44627a",
   "metadata": {},
   "outputs": [],
   "source": [
    "measures = ['axl1_l_w_flange', 'axl1_r_w_flange', 'axl2_l_w_flange', \n",
    "'axl2_r_w_flange', 'axl3_l_w_flange', 'axl3_r_w_flange', 'axl4_l_w_flange', 'axl4_r_w_flange']"
   ]
  },
  {
   "cell_type": "code",
   "execution_count": null,
   "id": "1d4b36c5",
   "metadata": {},
   "outputs": [],
   "source": [
    "#for m in measures:\n",
    "m = \"axl2_l_w_flange\"\n",
    "plt.scatter(merged_df[merged_df['mes_id']==\"37156_2\"]['milleage_all'], merged_df[merged_df['mes_id']==\"37156_2\"][m])#, color='C0')#,label = f'Вагон А{m}')\n",
    "plt.scatter(merged_df[merged_df['mes_id']==\"25397_2\"]['milleage_all'], merged_df[merged_df['mes_id']==\"25397_2\"][m])#, color='C0')#,label = f'Вагон А{m}')\n",
    "plt.scatter(merged_df[merged_df['mes_id']==\"13609_5\"]['milleage_all'], merged_df[merged_df['mes_id']==\"13609_5\"][m])#, color='C0')#,label = f'Вагон А{m}')\n",
    "\n",
    "#    plt.plot(merged_df[merged_df['mes_id']==w1]['milleage_all'], merged_df[merged_df['mes_id']==w1][m], color='C1')#,label = f'Вагон Б{m}')\n",
    "plt.xlabel(\"Пройденный путь\")\n",
    "plt.ylabel(\"Размер фичи\")\n",
    "plt.title(\"Зависимость размеров двух вагонов от пройденного пути\")\n",
    "plt.grid()\n",
    "plt.legend()"
   ]
  },
  {
   "cell_type": "markdown",
   "id": "95902eee",
   "metadata": {},
   "source": [
    "## Решение №1. \n",
    "### Для каждого вагона сделаем фичи: угол наклона прямой тенденции изменения размера текущей фичи и ее сдвиг. Т.е обучаем линейную регрессию берем из нее коэфициенты и записываем таблицу."
   ]
  },
  {
   "cell_type": "code",
   "execution_count": null,
   "id": "71c9d835",
   "metadata": {},
   "outputs": [],
   "source": [
    "merged_df = pd.read_csv('data/train_with_target.csv')\n",
    "merged_df"
   ]
  },
  {
   "cell_type": "code",
   "execution_count": null,
   "id": "5c50a0e4",
   "metadata": {},
   "outputs": [],
   "source": [
    "measures = ['axl1_l_w_flange', 'axl1_r_w_flange', 'axl2_l_w_flange', \n",
    "'axl2_r_w_flange', 'axl3_l_w_flange', 'axl3_r_w_flange', 'axl4_l_w_flange', 'axl4_r_w_flange']"
   ]
  },
  {
   "cell_type": "code",
   "execution_count": null,
   "id": "280652c9",
   "metadata": {},
   "outputs": [],
   "source": [
    "from sklearn.linear_model import LinearRegression\n",
    "lg = LinearRegression()\n",
    "x = merged_df[merged_df['mes_id'] == '2_3'][\"milleage_all\"].to_numpy().reshape(-1,1)\n",
    "y = merged_df[merged_df['mes_id'] == '2_3'][\"axl1_l_w_flange\"]\n",
    "lg.fit(x,y)\n",
    "a = lg.coef_#.predict(x[0,:])#,lg.predict(x[-1])\n",
    "b = lg.intercept_\n",
    "plt.plot(x,y,x,x*a+b)"
   ]
  },
  {
   "cell_type": "code",
   "execution_count": null,
   "id": "c594e5df",
   "metadata": {},
   "outputs": [],
   "source": [
    "from sklearn.linear_model import LinearRegression\n",
    "lg = LinearRegression()\n",
    "x = merged_df[merged_df['mes_id'] == '2_3'][\"milleage_all\"].to_numpy().reshape(-1,1)\n",
    "y = merged_df[merged_df['mes_id'] == '2_3'][\"target\"].to_numpy().reshape(-1,1)\n",
    "y = np.max(x) - x + y\n",
    "lg.fit(x,y)\n",
    "a = lg.coef_#.predict(x[0,:])#,lg.predict(x[-1])\n",
    "b = lg.intercept_\n",
    "plt.plot(x,y,x,x*a+b);"
   ]
  },
  {
   "cell_type": "code",
   "execution_count": null,
   "id": "60def573",
   "metadata": {},
   "outputs": [],
   "source": [
    "merged_df[merged_df['mes_id'] == '2_3'][\"milleage_all\"]"
   ]
  },
  {
   "cell_type": "code",
   "execution_count": null,
   "id": "71936725",
   "metadata": {},
   "outputs": [],
   "source": [
    "import tqdm"
   ]
  },
  {
   "cell_type": "code",
   "execution_count": null,
   "id": "738698ec",
   "metadata": {},
   "outputs": [],
   "source": [
    "\n",
    "\n",
    "\n",
    "%%time\n",
    "lin_regr_dict = {}\n",
    "lin_regr_dict[\"mes_id\"] = []\n",
    "lin_regr_dict[\"target\"] = []\n",
    "lin_regr_dict[\"wagnum\"] = []\n",
    "lin_regr_dict[\"ts_id\"] = []\n",
    "lin_regr_dict[\"milleage_all\"] = []\n",
    "\n",
    "for i in measures:\n",
    "    lin_regr_dict[i+\"_\"+\"a\"] = []\n",
    "    lin_regr_dict[i+\"_\"+\"b\"] = []\n",
    "    \n",
    "for m_id in tqdm.tqdm(merged_df[\"mes_id\"].unique()):\n",
    "    lin_regr_dict[\"mes_id\"].append(m_id)\n",
    "    lin_regr_dict[\"target\"].append(merged_df[merged_df[\"mes_id\"] ==m_id][\"target\"].max())\n",
    "    lin_regr_dict[\"wagnum\"].append(merged_df[merged_df[\"mes_id\"] ==m_id][\"wagnum\"].max())\n",
    "    lin_regr_dict[\"ts_id\"].append(merged_df[merged_df[\"mes_id\"] ==m_id][\"ts_id\"].max())\n",
    "    lin_regr_dict[\"milleage_all\"].append(merged_df[merged_df[\"mes_id\"] ==m_id][\"milleage_all\"].max())\n",
    "\n",
    "    for m in measures:\n",
    "        lg = LinearRegression(n_jobs = -1)\n",
    "        x = merged_df[merged_df['mes_id'] == m_id][\"milleage_all\"].to_numpy()#.reshape(-1,1)\n",
    "        y = merged_df[merged_df['mes_id'] == m_id][m].to_numpy()\n",
    "        not_na_indexes = ~np.isnan(y) & ~np.isnan(x)\n",
    "        lg.fit(x[not_na_indexes].reshape(-1,1),y[not_na_indexes].reshape(-1,1))\n",
    "\n",
    "            \n",
    "        a = lg.coef_\n",
    "        b = lg.intercept_\n",
    "        lin_regr_dict[m+\"_\"+\"a\"].append(float(a))\n",
    "        lin_regr_dict[m+\"_\"+\"b\"].append(float(b))"
   ]
  },
  {
   "cell_type": "code",
   "execution_count": null,
   "id": "a425bf4e",
   "metadata": {},
   "outputs": [],
   "source": [
    "lin_regr_df = pd.DataFrame(lin_regr_dict)\n",
    "lin_regr_df"
   ]
  },
  {
   "cell_type": "code",
   "execution_count": null,
   "id": "bdbd584e",
   "metadata": {},
   "outputs": [],
   "source": [
    "lin_regr_df.to_csv('data/lin_regr_df.csv', index=False)"
   ]
  },
  {
   "cell_type": "code",
   "execution_count": null,
   "id": "d41d9a32",
   "metadata": {},
   "outputs": [],
   "source": [
    "#Пробую тоже самое для таргета\n",
    "\n",
    "lin_regr_dict_t = {}\n",
    "lin_regr_dict_t[\"mes_id\"] = []\n",
    "lin_regr_dict_t[\"target\"] = []\n",
    "lin_regr_dict_t[\"wagnum\"] = []\n",
    "lin_regr_dict_t[\"ts_id\"] = []\n",
    "lin_regr_dict_t[\"milleage_all\"] = []\n",
    "\n",
    "#for i in measures:\n",
    "lin_regr_dict_t[\"target_div_all\"] = []\n",
    "    \n",
    "for m_id in tqdm.tqdm(merged_df[\"mes_id\"].unique()):\n",
    "    lin_regr_dict_t[\"mes_id\"].append(m_id)\n",
    "    lin_regr_dict_t[\"target\"].append(merged_df[merged_df[\"mes_id\"] ==m_id][\"target\"].max())#max используется из-за того,что там все значения одинаковые, соот-но можно брать любое значение\n",
    "    lin_regr_dict_t[\"wagnum\"].append(merged_df[merged_df[\"mes_id\"] ==m_id][\"wagnum\"].max())\n",
    "    lin_regr_dict_t[\"ts_id\"].append(merged_df[merged_df[\"mes_id\"] ==m_id][\"ts_id\"].max())\n",
    "    lin_regr_dict_t[\"milleage_all\"].append(merged_df[merged_df[\"mes_id\"] ==m_id][\"milleage_all\"].max())\n",
    "    if len(np.unique(merged_df[merged_df[\"mes_id\"] ==m_id][\"target\"])) != 1:\n",
    "        print(np.unique(merged_df[merged_df[\"mes_id\"] ==m_id][\"milleage_all\"]))\n",
    "    for m in measures:\n",
    "        lg = LinearRegression(n_jobs = -1)\n",
    "        x = merged_df[merged_df['mes_id'] == m_id][\"milleage_all\"].to_numpy()#.reshape(-1,1)\n",
    "        y = merged_df[merged_df['mes_id'] == m_id][m].to_numpy()\n",
    "        not_na_indexes = ~np.isnan(y) & ~np.isnan(x)\n",
    "        lg.fit(x[not_na_indexes].reshape(-1,1),y[not_na_indexes].reshape(-1,1))\n",
    "\n",
    "\n",
    "        a = lg.coef_\n",
    "        b = lg.intercept_\n",
    "        lin_regr_dict_t[m+\"_\"+\"a\"].append(float(a))\n",
    "        lin_regr_dict_t[m+\"_\"+\"b\"].append(float(b))\n"
   ]
  },
  {
   "cell_type": "code",
   "execution_count": null,
   "id": "6f723e29",
   "metadata": {},
   "outputs": [],
   "source": [
    "for m in measures:\n",
    "    ar = []\n",
    "    eps = 2\n",
    "\n",
    "    for index,row in tqdm.tqdm(lin_regr_df.iterrows()):\n",
    "        #print(row[\"mes_id\"])\n",
    "        av_target = 0\n",
    "        current_m_value = row[m]\n",
    "        mask = (current_m_value-eps<lin_regr_df[m])&(lin_regr_df[m]<current_m_value+eps)\n",
    "        common_values = lin_regr_df[mask][m]\n",
    "        ar.append(common_values.mean())\n",
    "    lin_regr_df[\"av_target_for_\"+m] = ar"
   ]
  },
  {
   "cell_type": "code",
   "execution_count": null,
   "id": "af3a1dac",
   "metadata": {},
   "outputs": [],
   "source": [
    "# lin_regr_df.to_csv(\"lin_regr_df_upd_with_mean_target_feature.csv\",index = False)"
   ]
  },
  {
   "cell_type": "code",
   "execution_count": null,
   "id": "bb8dcbf2",
   "metadata": {},
   "outputs": [],
   "source": [
    "lin_regr_df = pd.read_csv('data/lin_regr_df_upd_with_mean_target_feature.csv')"
   ]
  },
  {
   "cell_type": "code",
   "execution_count": null,
   "id": "3721322c",
   "metadata": {},
   "outputs": [],
   "source": [
    "lin_regr_df.columns"
   ]
  },
  {
   "cell_type": "code",
   "execution_count": null,
   "id": "14531329",
   "metadata": {},
   "outputs": [],
   "source": [
    "measures = ['axl1_l_w_flange', 'axl1_r_w_flange', 'axl2_l_w_flange', \n",
    "'axl2_r_w_flange', 'axl3_l_w_flange', 'axl3_r_w_flange', 'axl4_l_w_flange', 'axl4_r_w_flange']\n",
    "for m in measures:\n",
    "    lin_regr_df[m] = lin_regr_df[\"milleage_all\"] *lin_regr_df[m+\"_a\"]+lin_regr_df[m+\"_b\"]\n",
    "# for i in #lin_regr_df.iterrows():\n",
    "#     print(i)"
   ]
  },
  {
   "cell_type": "code",
   "execution_count": null,
   "id": "78e81cba",
   "metadata": {},
   "outputs": [],
   "source": [
    "import seaborn as sns\n",
    "sns.heatmap(lin_regr_df.drop(columns=[\"mes_id\"]).corr())"
   ]
  },
  {
   "cell_type": "code",
   "execution_count": null,
   "id": "41522dae",
   "metadata": {},
   "outputs": [],
   "source": [
    "from sklearn.model_selection import train_test_split\n",
    "from sklearn.preprocessing import StandardScaler\n",
    "#Дописать Стандарт Скалер\n",
    "#scaler = StandardScaler()\n",
    "\n",
    "y = lin_regr_df[\"target\"]\n",
    "x = lin_regr_df.drop(columns=[\"target\",\"mes_id\",\"wagnum\"])\n",
    "x_train,x_test,y_train,y_test=train_test_split(x,y,test_size=0.2)"
   ]
  },
  {
   "cell_type": "code",
   "execution_count": null,
   "id": "725e6dd0",
   "metadata": {},
   "outputs": [],
   "source": [
    "%%time\n",
    "from sklearn.ensemble import GradientBoostingRegressor,RandomForestRegressor\n",
    "import xgboost as xgb\n",
    "from sklearn.linear_model import LinearRegression,Ridge\n",
    "from sklearn.metrics import mean_squared_error,mean_absolute_error\n",
    "from sklearn.svm import SVR\n",
    "params = {\n",
    "    \"objective\": \"reg:squarederror\",\n",
    "    \"n_estimators\":100,\n",
    "    \"max_depth\": 5,#5\n",
    "    \"eval_metric\":'mae'\n",
    "}\n",
    "model = xgb.XGBRegressor( **params)#xgb.XGBRegressor(**params )#xgb.XGBRegressor()#GradientBoostingRegressor()#RandomForestRegressor()#LinearRegression()#GradientBoostingRegressor(loss = 'absolute_error')\n",
    "#model = xgb.XGBRegressor( )#xgb.XGBRegressor()#GradientBoostingRegressor()#RandomForestRegressor()#LinearRegression()#GradientBoostingRegressor(loss = 'absolute_error')\n",
    "\n",
    "model.fit(x_train,y_train)\n",
    "y_pred = model.predict(x_test)\n",
    "mean_absolute_error(np.repeat(y_test,19), np.repeat(y_pred,19))\n"
   ]
  },
  {
   "cell_type": "code",
   "execution_count": null,
   "id": "c43ffe75",
   "metadata": {},
   "outputs": [],
   "source": [
    "y_train_pred = model.predict(x_train)\n",
    "error = np.abs(y_train_pred - y_train)\n",
    "error.hist()"
   ]
  },
  {
   "cell_type": "code",
   "execution_count": null,
   "id": "643b80c2",
   "metadata": {},
   "outputs": [],
   "source": [
    "mask = error<30000\n",
    "model = xgb.XGBRegressor(**params)#RandomForestRegressor()#LinearRegression()#GradientBoostingRegressor(loss = 'absolute_error')\n",
    "model.fit(x_train[mask],y_train[mask])\n",
    "\n",
    "y_pred = model.predict(x_test)\n",
    "y_pred[y_pred<600] = 5000\n",
    "mean_absolute_error(np.repeat(y_test,19), np.repeat(y_pred,19))\n"
   ]
  },
  {
   "cell_type": "code",
   "execution_count": null,
   "id": "f3300734",
   "metadata": {},
   "outputs": [],
   "source": [
    "np.mean(y_pred), np.mean(y_test), np.mean(y_train)"
   ]
  },
  {
   "cell_type": "code",
   "execution_count": null,
   "id": "20d3658b",
   "metadata": {},
   "outputs": [],
   "source": [
    "max(y_train), max(y_test), max(y_pred)"
   ]
  },
  {
   "cell_type": "code",
   "execution_count": null,
   "id": "72c29db6",
   "metadata": {},
   "outputs": [],
   "source": [
    "test_df = pd.read_parquet(\"./data/test.parquet\")\n",
    "test_df[\"mes_id\"] = test_df[\"wagnum\"].astype(str) + \"_\" + test_df[\"ts_id\"].astype(str)\n",
    "test_df"
   ]
  },
  {
   "cell_type": "code",
   "execution_count": null,
   "id": "4e0f71e5",
   "metadata": {},
   "outputs": [],
   "source": [
    "test_df.to_csv(\"test.csv\",index = False)"
   ]
  },
  {
   "cell_type": "code",
   "execution_count": null,
   "id": "8f2cd614",
   "metadata": {},
   "outputs": [],
   "source": [
    "%%time\n",
    "import tqdm\n",
    "#То, что закомментировано удалять не нужно. Я закомментил, чтобы файлы не перезаписывались\n",
    "\n",
    "merged_df = test_df\n",
    "lin_regr_dict = {}\n",
    "lin_regr_dict[\"mes_id\"] = []\n",
    "#lin_regr_dict[\"target\"] = []\n",
    "lin_regr_dict[\"wagnum\"] = []\n",
    "lin_regr_dict[\"ts_id\"] = []\n",
    "lin_regr_dict[\"milleage_all\"] = []\n",
    "\n",
    "for i in measures:\n",
    "    lin_regr_dict[i+\"_\"+\"a\"] = []\n",
    "    lin_regr_dict[i+\"_\"+\"b\"] = []\n",
    "    \n",
    "for m_id in tqdm.tqdm(merged_df[\"mes_id\"].unique()):\n",
    "    lin_regr_dict[\"mes_id\"].append(m_id)\n",
    "    #lin_regr_dict[\"target\"].append(merged_df[merged_df[\"mes_id\"] ==m_id][\"target\"].max())#max используется из-за того,что там все значения одинаковые, соот-но можно брать любое значение\n",
    "    lin_regr_dict[\"wagnum\"].append(merged_df[merged_df[\"mes_id\"] ==m_id][\"wagnum\"].max())\n",
    "    lin_regr_dict[\"ts_id\"].append(merged_df[merged_df[\"mes_id\"] ==m_id][\"ts_id\"].max())\n",
    "    lin_regr_dict[\"milleage_all\"].append(merged_df[merged_df[\"mes_id\"] ==m_id][\"milleage_all\"].max())\n",
    "\n",
    "    for m in measures:\n",
    "        \n",
    "        lg = LinearRegression(n_jobs = -1)\n",
    "        x = merged_df[merged_df['mes_id'] == m_id][\"milleage_all\"].to_numpy()#.reshape(-1,1)\n",
    "        y = merged_df[merged_df['mes_id'] == m_id][m].to_numpy()\n",
    "        #print(1)\n",
    "        not_na_indexes = ~np.isnan(y) & ~np.isnan(x)\n",
    "        #print(2)\n",
    "        lg.fit(x[not_na_indexes].reshape(-1,1),y[not_na_indexes].reshape(-1,1))\n",
    "       # print(3)\n",
    "            \n",
    "        a = lg.coef_\n",
    "        b = lg.intercept_\n",
    "        #print(4)\n",
    "        lin_regr_dict[m+\"_\"+\"a\"].append(float(a))\n",
    "        lin_regr_dict[m+\"_\"+\"b\"].append(float(b))\n",
    "print(5)\n",
    "lin_regr_df = pd.DataFrame(lin_regr_dict)"
   ]
  },
  {
   "cell_type": "code",
   "execution_count": null,
   "id": "78dfc061",
   "metadata": {},
   "outputs": [],
   "source": [
    "lin_regr_df"
   ]
  },
  {
   "cell_type": "code",
   "execution_count": null,
   "id": "28c8d359",
   "metadata": {},
   "outputs": [],
   "source": [
    "measures = ['axl1_l_w_flange', 'axl1_r_w_flange', 'axl2_l_w_flange', \n",
    "'axl2_r_w_flange', 'axl3_l_w_flange', 'axl3_r_w_flange', 'axl4_l_w_flange', 'axl4_r_w_flange']\n",
    "for m in measures:\n",
    "    lin_regr_df[m] = lin_regr_df[\"milleage_all\"] *lin_regr_df[m+\"_a\"]+lin_regr_df[m+\"_b\"]"
   ]
  },
  {
   "cell_type": "code",
   "execution_count": null,
   "id": "506bf6ff",
   "metadata": {},
   "outputs": [],
   "source": [
    "lin_regr_df.to_csv(\"test_linregr.csv\",index = False)"
   ]
  },
  {
   "cell_type": "code",
   "execution_count": null,
   "id": "9494631a",
   "metadata": {},
   "outputs": [],
   "source": [
    "for m in measures:\n",
    "    ar = []\n",
    "    eps = 2\n",
    "\n",
    "    for index,row in tqdm.tqdm(lin_regr_df.iterrows()):\n",
    "        #print(row[\"mes_id\"])\n",
    "        av_target = 0\n",
    "        current_m_value = row[m]\n",
    "        mask = (current_m_value-eps<lin_regr_df[m])&(lin_regr_df[m]<current_m_value+eps)\n",
    "        common_values = lin_regr_df[mask][m]\n",
    "        ar.append(common_values.mean())\n",
    "    lin_regr_df[\"av_target_for_\"+m] = ar\n",
    "        #print(ar)\n",
    "        #break\n",
    "        #ar.append()\n",
    "    #lin_regr_df[\"av_target_for_\"+m] = lin"
   ]
  },
  {
   "cell_type": "code",
   "execution_count": null,
   "id": "76bd006c",
   "metadata": {},
   "outputs": [],
   "source": [
    "lin_regr_df.to_csv(\"data/test_linregr_upd_with_av_target_feature.csv\",index = False)"
   ]
  },
  {
   "cell_type": "code",
   "execution_count": null,
   "id": "46536a43",
   "metadata": {},
   "outputs": [],
   "source": []
  },
  {
   "cell_type": "code",
   "execution_count": null,
   "id": "67bdfa68",
   "metadata": {},
   "outputs": [],
   "source": [
    "%%time\n",
    "from sklearn.ensemble import GradientBoostingRegressor,RandomForestRegressor\n",
    "import xgboost as xgb\n",
    "from sklearn.linear_model import LinearRegression,Ridge\n",
    "from sklearn.metrics import mean_squared_error,mean_absolute_error\n",
    "from sklearn.svm import SVR\n",
    "params = {\n",
    "    \"objective\": \"reg:squarederror\",\n",
    "    \"n_estimators\":100,\n",
    "    \"max_depth\": 5,#5\n",
    "    \"eval_metric\":'mae'\n",
    "}\n",
    "model = xgb.XGBRegressor( **params)#xgb.XGBRegressor(**params )#xgb.XGBRegressor()#GradientBoostingRegressor()#RandomForestRegressor()#LinearRegression()#GradientBoostingRegressor(loss = 'absolute_error')\n",
    "#model = xgb.XGBRegressor( )#xgb.XGBRegressor()#GradientBoostingRegressor()#RandomForestRegressor()#LinearRegression()#GradientBoostingRegressor(loss = 'absolute_error')\n",
    "\n",
    "model.fit(x_train,y_train)\n",
    "y_pred = model.predict(x_test)\n",
    "mean_absolute_error(np.repeat(y_test,19), np.repeat(y_pred,19))\n"
   ]
  },
  {
   "cell_type": "code",
   "execution_count": null,
   "id": "34f06a6b",
   "metadata": {},
   "outputs": [],
   "source": [
    "y_train_pred = model.predict(x_train)\n",
    "error = np.abs(y_train_pred - y_train)\n",
    "error.hist()"
   ]
  },
  {
   "cell_type": "code",
   "execution_count": null,
   "id": "e28d8289",
   "metadata": {},
   "outputs": [],
   "source": [
    "mask = error<30000\n",
    "model = xgb.XGBRegressor(**params)#RandomForestRegressor()#LinearRegression()#GradientBoostingRegressor(loss = 'absolute_error')\n",
    "model.fit(x_train[mask],y_train[mask])\n",
    "\n",
    "y_pred = model.predict(x_test)\n",
    "y_pred[y_pred<600] = 5000\n",
    "mean_absolute_error(np.repeat(y_test,19), np.repeat(y_pred,19))\n"
   ]
  },
  {
   "cell_type": "code",
   "execution_count": null,
   "id": "b6ee16aa",
   "metadata": {},
   "outputs": [],
   "source": [
    "lin_regr_df = pd.read_csv(\"data/test_linregr_upd_with_av_target_feature.csv\")"
   ]
  },
  {
   "cell_type": "code",
   "execution_count": null,
   "id": "8c7684c7",
   "metadata": {},
   "outputs": [],
   "source": [
    "need_order = list(model.feature_names_in_)"
   ]
  },
  {
   "cell_type": "code",
   "execution_count": null,
   "id": "7efca5c8",
   "metadata": {},
   "outputs": [],
   "source": [
    "from sklearn.model_selection import train_test_split\n",
    "from sklearn.preprocessing import StandardScaler\n",
    "\n",
    "#test_subm_y = lin_regr_df[\"target\"]\n",
    "test_subm_x = lin_regr_df.drop(columns=[\"mes_id\",\"wagnum\"])\n",
    "test_subm_x = test_subm_x[need_order]"
   ]
  },
  {
   "cell_type": "code",
   "execution_count": null,
   "id": "4106b7db",
   "metadata": {},
   "outputs": [],
   "source": [
    "lin_regr_df[\"target\"] = model.predict(test_subm_x)"
   ]
  },
  {
   "cell_type": "code",
   "execution_count": null,
   "id": "a51ede29",
   "metadata": {},
   "outputs": [],
   "source": [
    "lin_regr_df"
   ]
  },
  {
   "cell_type": "code",
   "execution_count": null,
   "id": "605e69a4",
   "metadata": {},
   "outputs": [],
   "source": [
    "lin_regr_df.loc[:,[\"wagnum\",\"ts_id\",\"target\"]].to_csv(\"ML ботать нельзя спать.csv\")"
   ]
  },
  {
   "cell_type": "code",
   "execution_count": null,
   "id": "cde04ca8",
   "metadata": {},
   "outputs": [],
   "source": []
  }
 ],
 "metadata": {
  "kernelspec": {
   "display_name": "myenv",
   "language": "python",
   "name": "myenv"
  },
  "language_info": {
   "codemirror_mode": {
    "name": "ipython",
    "version": 3
   },
   "file_extension": ".py",
   "mimetype": "text/x-python",
   "name": "python",
   "nbconvert_exporter": "python",
   "pygments_lexer": "ipython3",
   "version": "3.10.10"
  }
 },
 "nbformat": 4,
 "nbformat_minor": 5
}
